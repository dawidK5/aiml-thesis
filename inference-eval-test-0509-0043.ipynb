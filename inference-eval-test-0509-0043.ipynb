{
 "cells": [
  {
   "cell_type": "code",
   "execution_count": null,
   "metadata": {},
   "outputs": [],
   "source": [
    "from huggingface_hub import login\n",
    "import pandas as pd\n",
    "import numpy as np\n",
    "import os, time, datetime\n",
    "\n",
    "from datasets import Dataset, DatasetDict\n",
    "\n",
    "from transformers import DataCollatorForSeq2Seq, AutoTokenizer, set_seed\n",
    "from transformers import AutoModelForSeq2SeqLM, Seq2SeqTrainingArguments, Seq2SeqTrainer\n",
    "\n",
    "import wandb"
   ]
  },
  {
   "cell_type": "code",
   "execution_count": null,
   "metadata": {},
   "outputs": [],
   "source": [
    "!pip freeze"
   ]
  },
  {
   "cell_type": "code",
   "execution_count": null,
   "metadata": {},
   "outputs": [],
   "source": [
    "ds_dir = '.\\\\data\\\\'\n",
    "try:\n",
    "    HF_TOKEN =  os.environ['HF_TOKEN']\n",
    "except:\n",
    "    HF_TOKEN = \"\"\n",
    "\n",
    "if 'google.colab' in str(get_ipython()):\n",
    "    print(\"Running on Colab\")\n",
    "    from google.colab import drive, userdata\n",
    "    drive.mount('/content/drive')\n",
    "    HF_TOKEN = userdata.get('HF_TOKEN')\n",
    "elif os.environ.get('KAGGLE_KERNEL_RUN_TYPE') != None:\n",
    "    ds_dir = '/kaggle/input/bertdata2207/'\n",
    "    # ds_dir=\"/kaggle/input/bertdata2207/\"\n",
    "    from kaggle_secrets import UserSecretsClient\n",
    "    print(\"Running on Kaggle\")\n",
    "    # ds_dir = \"/kaggle/input/tweet-data-2106-1512/\"\n",
    "    user_secrets = UserSecretsClient()\n",
    "    HF_TOKEN = user_secrets.get_secret(\"HF_TOKEN\")\n",
    "    WANDB_API_KEY = user_secrets.get_secret(\"WANDB_API_KEY\")\n",
    "    os.environ['WANDB_API_KEY'] = WANDB_API_KEY"
   ]
  },
  {
   "cell_type": "code",
   "execution_count": null,
   "metadata": {},
   "outputs": [],
   "source": [
    "set_seed(17)\n",
    "os.environ[\"WANDB_PROJECT\"] = \"aiml-thesis-test\""
   ]
  },
  {
   "cell_type": "code",
   "execution_count": null,
   "metadata": {},
   "outputs": [],
   "source": [
    "wandb.init(settings=wandb.Settings(start_method=\"thread\"))"
   ]
  },
  {
   "cell_type": "code",
   "execution_count": null,
   "metadata": {},
   "outputs": [],
   "source": [
    "login(token=HF_TOKEN)"
   ]
  },
  {
   "cell_type": "code",
   "execution_count": null,
   "metadata": {},
   "outputs": [],
   "source": [
    "test_df_temp = pd.read_csv(ds_dir + \"dials_abs_2607_1312_test_spc.csv\", names=['conv_id','dialogue','summary'], encoding='utf-8', dtype={'conv_id':'string', 'dialogue':'string', 'summary': 'string'})\n",
    "test_df_temp.convert_dtypes()\n",
    "test_df_temp.reset_index(drop=True, inplace=True)\n",
    "\n",
    "print(test_df_temp.dtypes)\n",
    "print(test_df_temp.head())"
   ]
  },
  {
   "cell_type": "code",
   "execution_count": null,
   "metadata": {},
   "outputs": [],
   "source": [
    "# Test every checkpoint for mean stats and display"
   ]
  },
  {
   "cell_type": "code",
   "execution_count": null,
   "metadata": {},
   "outputs": [],
   "source": [
    "# set resume_from_checkpoint to true in trainer"
   ]
  }
 ],
 "metadata": {
  "language_info": {
   "name": "python"
  }
 },
 "nbformat": 4,
 "nbformat_minor": 2
}
