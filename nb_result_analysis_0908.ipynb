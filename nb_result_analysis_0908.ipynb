{
 "cells": [
  {
   "cell_type": "markdown",
   "metadata": {},
   "source": [
    "# Analyse test results for the metrics"
   ]
  },
  {
   "cell_type": "markdown",
   "metadata": {},
   "source": [
    "## Common"
   ]
  },
  {
   "cell_type": "code",
   "execution_count": 2,
   "metadata": {},
   "outputs": [],
   "source": [
    "import pandas as pd\n",
    "data_prefix = \"results/\"\n",
    "def show_means(df:pd.DataFrame):\n",
    "    for col in df.drop(columns=['conv_id']).columns:\n",
    "        print(f\"{col}: {df[col].mean():.4f}\", end='\\t')\n",
    "\n",
    "    print()"
   ]
  },
  {
   "cell_type": "markdown",
   "metadata": {},
   "source": [
    "## BERT"
   ]
  },
  {
   "cell_type": "markdown",
   "metadata": {},
   "source": [
    "## BART"
   ]
  },
  {
   "cell_type": "markdown",
   "metadata": {},
   "source": [
    "## T5"
   ]
  },
  {
   "cell_type": "markdown",
   "metadata": {},
   "source": [
    "## GPT-4o"
   ]
  },
  {
   "cell_type": "code",
   "execution_count": 3,
   "metadata": {},
   "outputs": [],
   "source": [
    "gpt_res_abs = pd.read_csv(data_prefix + \"test_res_abs_gpt4o_0708_1305.csv\")\n",
    "gpt_res_ext = pd.read_csv(data_prefix + \"test_res_ext_gpt4o_0908_1239.csv\")"
   ]
  },
  {
   "cell_type": "code",
   "execution_count": 4,
   "metadata": {},
   "outputs": [
    {
     "name": "stdout",
     "output_type": "stream",
     "text": [
      "GPT-4o results:\n",
      "Extractive:\n",
      "rouge1_pr: 0.5451\trouge1_re: 0.7129\trouge1_f1: 0.5972\trouge2_pr: 0.4457\trouge2_re: 0.5843\trouge2_f1: 0.4892\trougeL_pr: 0.4983\trougeL_re: 0.6530\trougeL_f1: 0.5469\trougeLsum_pr: 0.5221\trougeLsum_re: 0.6851\trougeLsum_f1: 0.5729\tbertscore_pr: 0.8929\tbertscore_re: 0.9065\tbertscore_f1: 0.8993\tmeteor: 0.6304\t\n",
      "Abstractive:\n",
      "rouge1_pr: 0.3062\trouge1_re: 0.4801\trouge1_f1: 0.3621\trouge2_pr: 0.0812\trouge2_re: 0.1281\trouge2_f1: 0.0958\trougeL_pr: 0.2240\trougeL_re: 0.3547\trougeL_f1: 0.2656\trougeLsum_pr: 0.2272\trougeLsum_re: 0.3590\trougeLsum_f1: 0.2693\tbertscore_pr: 0.8637\tbertscore_re: 0.8835\tbertscore_f1: 0.8734\tmeteor: 0.3408\t\n"
     ]
    }
   ],
   "source": [
    "print(\"GPT-4o results:\")\n",
    "print(\"Extractive:\")\n",
    "show_means(gpt_res_ext)\n",
    "print(\"Abstractive:\")\n",
    "show_means(gpt_res_abs)"
   ]
  }
 ],
 "metadata": {
  "kernelspec": {
   "display_name": ".venv",
   "language": "python",
   "name": "python3"
  },
  "language_info": {
   "codemirror_mode": {
    "name": "ipython",
    "version": 3
   },
   "file_extension": ".py",
   "mimetype": "text/x-python",
   "name": "python",
   "nbconvert_exporter": "python",
   "pygments_lexer": "ipython3",
   "version": "3.12.1"
  }
 },
 "nbformat": 4,
 "nbformat_minor": 2
}
